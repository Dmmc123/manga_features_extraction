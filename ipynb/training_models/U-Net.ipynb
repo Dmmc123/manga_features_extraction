{
 "cells": [
  {
   "cell_type": "code",
   "execution_count": 2,
   "metadata": {
    "id": "vxZbskSNMpfP"
   },
   "outputs": [],
   "source": [
    "from IPython.display import clear_output"
   ]
  },
  {
   "cell_type": "code",
   "execution_count": 3,
   "metadata": {
    "id": "78bZbtDfMmWy"
   },
   "outputs": [],
   "source": [
    "!pip install pytorch-lightning\n",
    "clear_output()"
   ]
  },
  {
   "cell_type": "code",
   "execution_count": 9,
   "metadata": {
    "id": "gSuyA0Z6MJNk",
    "tags": []
   },
   "outputs": [],
   "source": [
    "import os\n",
    "import torch.optim as optim\n",
    "from pathlib import Path\n",
    "from torch.utils.data import DataLoader, Dataset, random_split\n",
    "from torchvision import transforms, models\n",
    "import torch\n",
    "import torch.nn as nn\n",
    "import torch.nn.functional as F\n",
    "import pytorch_lightning as pl\n",
    "from PIL import Image, ImageOps\n",
    "import numpy as np\n",
    "import pandas as pd\n",
    "from matplotlib import pyplot as plt"
   ]
  },
  {
   "cell_type": "markdown",
   "metadata": {
    "id": "jxwEoDV_MJNm"
   },
   "source": [
    "# Dataset"
   ]
  },
  {
   "cell_type": "code",
   "execution_count": 10,
   "metadata": {
    "collapsed": false,
    "id": "uybnWEcaMJNn",
    "jupyter": {
     "outputs_hidden": false
    },
    "pycharm": {
     "name": "#%%\n"
    }
   },
   "outputs": [],
   "source": [
    "# https://pytorch.org/tutorials/beginner/data_loading_tutorial.html\n",
    "\n",
    "class MangaDataset(Dataset):\n",
    "    \"\"\"Road  dataset\"\"\"\n",
    "\n",
    "    def __init__(self, data_dir: str = 'data', im_size = (64, 64), transform = None):\n",
    "        \"\"\"\n",
    "        data_dir: str - path to images directory\n",
    "        transform: tochvision.transforms - transforms to be used on images\n",
    "        \"\"\"\n",
    "        if transform:\n",
    "            self.transform = transforms.Compose([\n",
    "                transforms.Resize(im_size),\n",
    "                transforms.ToTensor(),\n",
    "                transform\n",
    "            ])\n",
    "        else:\n",
    "            self.transform = transforms.Compose([\n",
    "                transforms.Resize(im_size),\n",
    "                transforms.ToTensor(),\n",
    "            ])\n",
    "        self.dataset = list(map(str, Path(data_dir).rglob(\"*.jpg\")))\n",
    "\n",
    "    def __len__(self):\n",
    "        return len(self.dataset)\n",
    "\n",
    "    def __getitem__(self, idx):\n",
    "        # Getting index\n",
    "        if torch.is_tensor(idx):\n",
    "            idx = idx.tolist()\n",
    "        im_path = self.dataset[idx]\n",
    "        # Opening and transforming the image\n",
    "        with Image.open(im_path) as im:\n",
    "            gray = ImageOps.grayscale(im)\n",
    "            return self.transform(gray)"
   ]
  },
  {
   "cell_type": "code",
   "execution_count": null,
   "metadata": {},
   "outputs": [],
   "source": [
    "np.array([sas, sas, sas])"
   ]
  },
  {
   "cell_type": "markdown",
   "metadata": {
    "id": "MOwpESbtMJNo"
   },
   "source": [
    "# Data Wrapping"
   ]
  },
  {
   "cell_type": "code",
   "execution_count": 201,
   "metadata": {
    "id": "mTNBd2Z9uVeW"
   },
   "outputs": [],
   "source": [
    "!unzip drive/MyDrive/data.zip\n",
    "clear_output()"
   ]
  },
  {
   "cell_type": "code",
   "execution_count": 11,
   "metadata": {
    "id": "5zWKeB05aUEf"
   },
   "outputs": [],
   "source": [
    "# folder with data\n",
    "dir = 'data'\n",
    "\n",
    "# parameters of data\n",
    "batch_size  = 64\n",
    "train_ratio = 0.8\n",
    "\n",
    "# getting all pieces of data together (test + train)\n",
    "data_full = MangaDataset(dir)\n",
    "\n",
    "# splitting the data on train and test\n",
    "train_len = int(len(data_full) * train_ratio)\n",
    "test_len  = len(data_full) - train_len\n",
    "train_samples, test_samples = random_split(data_full, [train_len, test_len])\n",
    "\n",
    "# wrapping data into dataloaders\n",
    "# NB lists are used as transforms became a bottleneck during the training process\n",
    "# and calculating transforms each time has become expensive\n",
    "train_data = list(DataLoader(train_samples, batch_size=batch_size))\n",
    "test_data  = list(DataLoader(test_samples,  batch_size=batch_size))"
   ]
  },
  {
   "cell_type": "markdown",
   "metadata": {
    "id": "e9iwXJFgMJNp",
    "jupyter": {
     "outputs_hidden": false
    },
    "pycharm": {
     "name": "#%%\n"
    }
   },
   "source": [
    "# Model"
   ]
  },
  {
   "cell_type": "code",
   "execution_count": 12,
   "metadata": {},
   "outputs": [
    {
     "data": {
      "text/plain": [
       "torch.Size([1, 7, 3, 4])"
      ]
     },
     "execution_count": 12,
     "metadata": {},
     "output_type": "execute_result"
    }
   ],
   "source": [
    "a = torch.rand((1, 2, 3, 4))\n",
    "b = torch.rand((1, 5, 3, 4))\n",
    "\n",
    "torch.cat((a, b), dim=1).size()"
   ]
  },
  {
   "cell_type": "code",
   "execution_count": 82,
   "metadata": {
    "id": "lLDjcKVQMJNq",
    "tags": []
   },
   "outputs": [],
   "source": [
    "class View(nn.Module):\n",
    "    def __init__(self, shape):\n",
    "        super(View, self).__init__()\n",
    "        self.shape = shape\n",
    "\n",
    "    def forward(self, x):\n",
    "        return x.view(self.shape)\n",
    "\n",
    "# https://github.com/1Konny/Beta-VAE/blob/master/model.py\n",
    "class MangaModel(nn.Module):\n",
    "    def __init__(self, n_size):\n",
    "        super().__init__()\n",
    "        self.n_size = n_size\n",
    "        \n",
    "        # Encoder model\n",
    "        self.conv1_enc = torch.nn.Sequential( # shape (1, 64, 64)\n",
    "            torch.nn.Conv2d(1, 32, 4, stride=2, padding=1), # (32, 32, 32)\n",
    "            torch.nn.ReLU(), \n",
    "            torch.nn.BatchNorm2d(32),\n",
    "            torch.nn.Conv2d(32, 32, 4, stride=2, padding=1), # (32, 16, 16)\n",
    "            torch.nn.ReLU(),\n",
    "            torch.nn.BatchNorm2d(32),\n",
    "        )  \n",
    "        \n",
    "        self.drop1_enc = torch.nn.Dropout2d()\n",
    "        \n",
    "        self.conv2_enc = torch.nn.Sequential(\n",
    "            torch.nn.Conv2d(32, 64, 4, stride=2, padding=1), # (64, 8, 8)\n",
    "            torch.nn.ReLU(),\n",
    "            torch.nn.BatchNorm2d(64),\n",
    "            torch.nn.Conv2d(64, 64, 4, stride=2, padding=1), # (64, 4, 4)\n",
    "            torch.nn.ReLU(),\n",
    "            torch.nn.BatchNorm2d(64),\n",
    "        )\n",
    "        \n",
    "        \n",
    "        self.conv3_enc = torch.nn.Sequential(\n",
    "            torch.nn.Conv2d(64, 256, 4, stride=1), # (256, 1, 1)\n",
    "            torch.nn.ReLU(),\n",
    "        )\n",
    "        \n",
    "        self.drop2_enc = torch.nn.Dropout2d()\n",
    "        \n",
    "        self.out_enc = torch.nn.Sequential(\n",
    "            torch.nn.BatchNorm2d(256),\n",
    "            torch.nn.Flatten(),\n",
    "            torch.nn.Linear(256, n_size)\n",
    "        )\n",
    "        \n",
    "        # Decoder model\n",
    "        self.inp_dec = torch.nn.Sequential( # shape (n_size)\n",
    "            torch.nn.Linear(n_size, 256),\n",
    "            View((-1, 256, 1, 1)),\n",
    "        )\n",
    "        \n",
    "        self.conv1_dec = torch.nn.Sequential( # (256, 1, 1)\n",
    "            torch.nn.ConvTranspose2d(2 * 256, 64, 4, stride=1),\n",
    "            torch.nn.ReLU(),\n",
    "            torch.nn.BatchNorm2d(64),\n",
    "        )\n",
    "        \n",
    "        self.drop1_dec = torch.nn.Dropout2d()\n",
    "        \n",
    "        self.conv2_dec = torch.nn.Sequential( \n",
    "            torch.nn.ConvTranspose2d(2 * 64, 64, 4, stride=2, padding=1), # (64, 4, 4)\n",
    "            torch.nn.ReLU(),\n",
    "            torch.nn.BatchNorm2d(64),\n",
    "            torch.nn.ConvTranspose2d(64, 32, 4, stride=2, padding=1), # (64, 8, 8)\n",
    "            torch.nn.ReLU(),\n",
    "            torch.nn.BatchNorm2d(32),\n",
    "        )\n",
    "        \n",
    "        self.drop2_dec = torch.nn.Dropout2d()\n",
    "        \n",
    "        self.conv3_dec = torch.nn.Sequential( \n",
    "            torch.nn.ConvTranspose2d(2 * 32, 32, 4, stride=2, padding=1), # (32, 16, 16)\n",
    "            torch.nn.BatchNorm2d(32),\n",
    "            torch.nn.ReLU(), \n",
    "            torch.nn.ConvTranspose2d(32, 1, 4, stride=2, padding=1) # (32, 32, 32)\n",
    "        )\n",
    "    \n",
    "    def forward_enc(self, x):\n",
    "        fw1 = self.conv1_enc(x)\n",
    "        x = self.drop1_enc(fw1)\n",
    "        fw2 = self.conv2_enc(x)\n",
    "        fw3 = self.conv3_enc(fw2)\n",
    "        x = self.drop2_enc(fw3)\n",
    "        x = self.out_enc(x)\n",
    "        return (x, fw1, fw2, fw3)\n",
    "        \n",
    "    def forward_dec(self, x, fw1, fw2, fw3):\n",
    "        x = self.inp_dec(x)\n",
    "        x = self.conv1_dec(torch.cat((fw3, x), dim=1))\n",
    "        x = self.drop1_dec(x)\n",
    "        x = self.conv2_dec(torch.cat((fw2, x), dim=1))\n",
    "        x = self.drop2_dec(x)\n",
    "        x = self.conv3_dec(torch.cat((fw1, x), dim=1))\n",
    "        return x\n",
    "        \n",
    "        \n",
    "    def forward(self, x):\n",
    "        x, fw1, fw2, fw3 = self.forward_enc(x)\n",
    "        out = self.forward_dec(x, fw1, fw2, fw3)\n",
    "        return out"
   ]
  },
  {
   "cell_type": "code",
   "execution_count": 83,
   "metadata": {
    "id": "jUiG7gA9xe1s"
   },
   "outputs": [],
   "source": [
    "from random import shuffle\n",
    "shuffle([1,2,3,4])"
   ]
  },
  {
   "cell_type": "code",
   "execution_count": 84,
   "metadata": {
    "colab": {
     "base_uri": "https://localhost:8080/"
    },
    "id": "KIMZBcyPOk6U",
    "outputId": "d69c5cbe-9ca7-44d2-c57b-d325c167f64a"
   },
   "outputs": [
    {
     "ename": "ModuleNotFoundError",
     "evalue": "No module named 'google.colab'",
     "output_type": "error",
     "traceback": [
      "\u001b[1;31m---------------------------------------------------------------------------\u001b[0m",
      "\u001b[1;31mModuleNotFoundError\u001b[0m                       Traceback (most recent call last)",
      "\u001b[1;32m<ipython-input-84-d5df0069828e>\u001b[0m in \u001b[0;36m<module>\u001b[1;34m\u001b[0m\n\u001b[1;32m----> 1\u001b[1;33m \u001b[1;32mfrom\u001b[0m \u001b[0mgoogle\u001b[0m\u001b[1;33m.\u001b[0m\u001b[0mcolab\u001b[0m \u001b[1;32mimport\u001b[0m \u001b[0mdrive\u001b[0m\u001b[1;33m\u001b[0m\u001b[1;33m\u001b[0m\u001b[0m\n\u001b[0m\u001b[0;32m      2\u001b[0m \u001b[0mdrive\u001b[0m\u001b[1;33m.\u001b[0m\u001b[0mmount\u001b[0m\u001b[1;33m(\u001b[0m\u001b[1;34m'/content/drive'\u001b[0m\u001b[1;33m)\u001b[0m\u001b[1;33m\u001b[0m\u001b[1;33m\u001b[0m\u001b[0m\n",
      "\u001b[1;31mModuleNotFoundError\u001b[0m: No module named 'google.colab'"
     ]
    }
   ],
   "source": [
    "from google.colab import drive\n",
    "drive.mount('/content/drive')"
   ]
  },
  {
   "cell_type": "code",
   "execution_count": 85,
   "metadata": {
    "id": "ajY-BKFAXyq9"
   },
   "outputs": [],
   "source": [
    "# https://github.com/1Konny/Beta-VAE/blob/977a1ece88e190dd8a556b4e2efb665f759d0772/solver.py  \n",
    "\n",
    "# 2nd part of loss function (KL-divergence)\n",
    "def kl_div(mu, sigma, device):\n",
    "    klds = -0.5*(1 + sigma - mu.pow(2) - sigma.exp()).to(device)\n",
    "    return klds.sum(1).mean(0, True)\n",
    "\n",
    "# CPU/GPU\n",
    "device = 'cuda' if torch.cuda.is_available() else 'cpu'\n",
    "\n",
    "# defining model on available device\n",
    "model = MangaModel(n_size=32).to(device)\n",
    "\n",
    "# defining loss\n",
    "loss = torch.nn.MSELoss()\n",
    "\n",
    "# optimizer\n",
    "optimizer = torch.optim.Adam(model.parameters(), lr=0.07)\n",
    "\n",
    "# scheduler\n",
    "# scheduler = torch.optim.lr_scheduler.ExponentialLR(optimizer, gamma=0.9)\n",
    "\n",
    "# amount of training cycles\n",
    "epochs = 1500\n",
    "\n",
    "# how frequently (every N epochs) we want to log the cumulative loss\n",
    "log_rate = 50"
   ]
  },
  {
   "cell_type": "code",
   "execution_count": 86,
   "metadata": {
    "id": "ZohNIAm5yP_-"
   },
   "outputs": [],
   "source": [
    "from itertools import chain\n",
    "from random import shuffle\n",
    "def shuffle_batch(batch):\n",
    "    batch_len = len(batch[0])\n",
    "    flat_batch = list(chain(*batch))\n",
    "    flat_batch = [x.numpy() for x in flat_batch]\n",
    "    shuffle(flat_batch)\n",
    "    return [torch.from_numpy(np.array(flat_batch[i*batch_len:(i+1)*batch_len])) for i in range(len(flat_batch)//batch_len)]"
   ]
  },
  {
   "cell_type": "code",
   "execution_count": 87,
   "metadata": {
    "colab": {
     "base_uri": "https://localhost:8080/"
    },
    "id": "aEqxrPVHZOd4",
    "outputId": "9a9fb2fc-ca1e-4abf-d7a8-4bdf9107b546"
   },
   "outputs": [
    {
     "name": "stdout",
     "output_type": "stream",
     "text": [
      "Epoch: 0, loss: 16.072734832763672\n",
      "Epoch: 1, loss: 2.141573667526245\n",
      "Epoch: 2, loss: 1.8541769981384277\n",
      "Epoch: 3, loss: 1.1608691215515137\n",
      "Epoch: 4, loss: 0.8613825440406799\n",
      "Epoch: 5, loss: 0.7604984045028687\n",
      "Epoch: 6, loss: 0.6653868556022644\n",
      "Epoch: 7, loss: 0.5694091320037842\n",
      "Epoch: 8, loss: 0.5130090713500977\n",
      "Epoch: 9, loss: 0.4593251943588257\n",
      "Epoch: 10, loss: 0.43418699502944946\n",
      "Epoch: 11, loss: 0.38517051935195923\n",
      "Epoch: 12, loss: 0.3608725070953369\n",
      "Epoch: 13, loss: 0.3258295953273773\n",
      "Epoch: 14, loss: 0.31193894147872925\n",
      "Epoch: 15, loss: 0.29752451181411743\n",
      "Epoch: 16, loss: 0.28649166226387024\n",
      "Epoch: 17, loss: 0.269076943397522\n",
      "Epoch: 18, loss: 0.2652722895145416\n",
      "Epoch: 19, loss: 0.25560900568962097\n",
      "Epoch: 20, loss: 0.24403084814548492\n",
      "Epoch: 21, loss: 0.2421485036611557\n",
      "Epoch: 22, loss: 0.23131617903709412\n",
      "Epoch: 23, loss: 0.22221790254116058\n",
      "Epoch: 24, loss: 0.22211125493049622\n",
      "Epoch: 25, loss: 0.21616826951503754\n",
      "Epoch: 26, loss: 0.2178368866443634\n",
      "Epoch: 27, loss: 0.22073915600776672\n",
      "Epoch: 28, loss: 0.2673896253108978\n",
      "Epoch: 29, loss: 0.24788959324359894\n"
     ]
    },
    {
     "ename": "KeyboardInterrupt",
     "evalue": "",
     "output_type": "error",
     "traceback": [
      "\u001b[1;31m---------------------------------------------------------------------------\u001b[0m",
      "\u001b[1;31mKeyboardInterrupt\u001b[0m                         Traceback (most recent call last)",
      "\u001b[1;32m<ipython-input-87-32f8bd61c79f>\u001b[0m in \u001b[0;36m<module>\u001b[1;34m\u001b[0m\n\u001b[0;32m     27\u001b[0m \u001b[1;33m\u001b[0m\u001b[0m\n\u001b[0;32m     28\u001b[0m         \u001b[1;31m# calculating the gradients for loss\u001b[0m\u001b[1;33m\u001b[0m\u001b[1;33m\u001b[0m\u001b[1;33m\u001b[0m\u001b[0m\n\u001b[1;32m---> 29\u001b[1;33m         \u001b[0mloss_joint\u001b[0m\u001b[1;33m.\u001b[0m\u001b[0mbackward\u001b[0m\u001b[1;33m(\u001b[0m\u001b[1;33m)\u001b[0m\u001b[1;33m\u001b[0m\u001b[1;33m\u001b[0m\u001b[0m\n\u001b[0m\u001b[0;32m     30\u001b[0m \u001b[1;33m\u001b[0m\u001b[0m\n\u001b[0;32m     31\u001b[0m         \u001b[1;31m# updating the weights on the model\u001b[0m\u001b[1;33m\u001b[0m\u001b[1;33m\u001b[0m\u001b[1;33m\u001b[0m\u001b[0m\n",
      "\u001b[1;32mc:\\users\\pavel\\appdata\\local\\programs\\python\\python38\\lib\\site-packages\\torch\\_tensor.py\u001b[0m in \u001b[0;36mbackward\u001b[1;34m(self, gradient, retain_graph, create_graph, inputs)\u001b[0m\n\u001b[0;32m    253\u001b[0m                 \u001b[0mcreate_graph\u001b[0m\u001b[1;33m=\u001b[0m\u001b[0mcreate_graph\u001b[0m\u001b[1;33m,\u001b[0m\u001b[1;33m\u001b[0m\u001b[1;33m\u001b[0m\u001b[0m\n\u001b[0;32m    254\u001b[0m                 inputs=inputs)\n\u001b[1;32m--> 255\u001b[1;33m         \u001b[0mtorch\u001b[0m\u001b[1;33m.\u001b[0m\u001b[0mautograd\u001b[0m\u001b[1;33m.\u001b[0m\u001b[0mbackward\u001b[0m\u001b[1;33m(\u001b[0m\u001b[0mself\u001b[0m\u001b[1;33m,\u001b[0m \u001b[0mgradient\u001b[0m\u001b[1;33m,\u001b[0m \u001b[0mretain_graph\u001b[0m\u001b[1;33m,\u001b[0m \u001b[0mcreate_graph\u001b[0m\u001b[1;33m,\u001b[0m \u001b[0minputs\u001b[0m\u001b[1;33m=\u001b[0m\u001b[0minputs\u001b[0m\u001b[1;33m)\u001b[0m\u001b[1;33m\u001b[0m\u001b[1;33m\u001b[0m\u001b[0m\n\u001b[0m\u001b[0;32m    256\u001b[0m \u001b[1;33m\u001b[0m\u001b[0m\n\u001b[0;32m    257\u001b[0m     \u001b[1;32mdef\u001b[0m \u001b[0mregister_hook\u001b[0m\u001b[1;33m(\u001b[0m\u001b[0mself\u001b[0m\u001b[1;33m,\u001b[0m \u001b[0mhook\u001b[0m\u001b[1;33m)\u001b[0m\u001b[1;33m:\u001b[0m\u001b[1;33m\u001b[0m\u001b[1;33m\u001b[0m\u001b[0m\n",
      "\u001b[1;32mc:\\users\\pavel\\appdata\\local\\programs\\python\\python38\\lib\\site-packages\\torch\\autograd\\__init__.py\u001b[0m in \u001b[0;36mbackward\u001b[1;34m(tensors, grad_tensors, retain_graph, create_graph, grad_variables, inputs)\u001b[0m\n\u001b[0;32m    145\u001b[0m         \u001b[0mretain_graph\u001b[0m \u001b[1;33m=\u001b[0m \u001b[0mcreate_graph\u001b[0m\u001b[1;33m\u001b[0m\u001b[1;33m\u001b[0m\u001b[0m\n\u001b[0;32m    146\u001b[0m \u001b[1;33m\u001b[0m\u001b[0m\n\u001b[1;32m--> 147\u001b[1;33m     Variable._execution_engine.run_backward(\n\u001b[0m\u001b[0;32m    148\u001b[0m         \u001b[0mtensors\u001b[0m\u001b[1;33m,\u001b[0m \u001b[0mgrad_tensors_\u001b[0m\u001b[1;33m,\u001b[0m \u001b[0mretain_graph\u001b[0m\u001b[1;33m,\u001b[0m \u001b[0mcreate_graph\u001b[0m\u001b[1;33m,\u001b[0m \u001b[0minputs\u001b[0m\u001b[1;33m,\u001b[0m\u001b[1;33m\u001b[0m\u001b[1;33m\u001b[0m\u001b[0m\n\u001b[0;32m    149\u001b[0m         allow_unreachable=True, accumulate_grad=True)  # allow_unreachable flag\n",
      "\u001b[1;31mKeyboardInterrupt\u001b[0m: "
     ]
    }
   ],
   "source": [
    "optimizer = torch.optim.Adam(model.parameters(), lr=0.08)\n",
    "\n",
    "# starting the training process\n",
    "for epoch in range(epochs):\n",
    "\n",
    "    # initializing the form of cumulating loss\n",
    "    cumulative_loss = 0\n",
    "\n",
    "    # going htrough each batch in a pack of training data\n",
    "    for batch in shuffle_batch(train_data):\n",
    "\n",
    "        # resetting gradients for the optimizer\n",
    "        optimizer.zero_grad()\n",
    "\n",
    "        # sending pictures to devices\n",
    "        batch = batch.to(device)\n",
    "\n",
    "        # propogating the pictures through the model\n",
    "        # reconstructed, mu, sigma = model(batch)\n",
    "        reconstructed = model(batch)\n",
    "\n",
    "        # calculating the reconstruction loss and kl divergence\n",
    "        recon_loss = loss(batch, reconstructed)\n",
    "        # kl_loss    = kl_div(mu, sigma, device)\n",
    "        # loss_joint = recon_loss + kl_loss\n",
    "        loss_joint = recon_loss\n",
    "\n",
    "        # calculating the gradients for loss\n",
    "        loss_joint.backward()\n",
    "\n",
    "        # updating the weights on the model\n",
    "        optimizer.step()\n",
    "\n",
    "        # updating the lr of optimizer\n",
    "        # scheduler.step()\n",
    "\n",
    "        # updating the cumulative loss\n",
    "        cumulative_loss += loss_joint\n",
    "\n",
    "    # logging the loss if needed\n",
    "    # if not epoch % log_rate:\n",
    "    print(f\"Epoch: {epoch}, loss: {cumulative_loss}\")"
   ]
  },
  {
   "cell_type": "code",
   "execution_count": 88,
   "metadata": {
    "id": "HhaO4kmjSBXp"
   },
   "outputs": [
    {
     "data": {
      "text/plain": [
       "MangaModel(\n",
       "  (conv1_enc): Sequential(\n",
       "    (0): Conv2d(1, 32, kernel_size=(4, 4), stride=(2, 2), padding=(1, 1))\n",
       "    (1): ReLU()\n",
       "    (2): BatchNorm2d(32, eps=1e-05, momentum=0.1, affine=True, track_running_stats=True)\n",
       "    (3): Conv2d(32, 32, kernel_size=(4, 4), stride=(2, 2), padding=(1, 1))\n",
       "    (4): ReLU()\n",
       "    (5): BatchNorm2d(32, eps=1e-05, momentum=0.1, affine=True, track_running_stats=True)\n",
       "  )\n",
       "  (drop1_enc): Dropout2d(p=0.5, inplace=False)\n",
       "  (conv2_enc): Sequential(\n",
       "    (0): Conv2d(32, 64, kernel_size=(4, 4), stride=(2, 2), padding=(1, 1))\n",
       "    (1): ReLU()\n",
       "    (2): BatchNorm2d(64, eps=1e-05, momentum=0.1, affine=True, track_running_stats=True)\n",
       "    (3): Conv2d(64, 64, kernel_size=(4, 4), stride=(2, 2), padding=(1, 1))\n",
       "    (4): ReLU()\n",
       "    (5): BatchNorm2d(64, eps=1e-05, momentum=0.1, affine=True, track_running_stats=True)\n",
       "  )\n",
       "  (conv3_enc): Sequential(\n",
       "    (0): Conv2d(64, 256, kernel_size=(4, 4), stride=(1, 1))\n",
       "    (1): ReLU()\n",
       "  )\n",
       "  (drop2_enc): Dropout2d(p=0.5, inplace=False)\n",
       "  (out_enc): Sequential(\n",
       "    (0): BatchNorm2d(256, eps=1e-05, momentum=0.1, affine=True, track_running_stats=True)\n",
       "    (1): Flatten(start_dim=1, end_dim=-1)\n",
       "    (2): Linear(in_features=256, out_features=32, bias=True)\n",
       "  )\n",
       "  (inp_dec): Sequential(\n",
       "    (0): Linear(in_features=32, out_features=256, bias=True)\n",
       "    (1): View()\n",
       "  )\n",
       "  (conv1_dec): Sequential(\n",
       "    (0): ConvTranspose2d(512, 64, kernel_size=(4, 4), stride=(1, 1))\n",
       "    (1): ReLU()\n",
       "    (2): BatchNorm2d(64, eps=1e-05, momentum=0.1, affine=True, track_running_stats=True)\n",
       "  )\n",
       "  (drop1_dec): Dropout2d(p=0.5, inplace=False)\n",
       "  (conv2_dec): Sequential(\n",
       "    (0): ConvTranspose2d(128, 64, kernel_size=(4, 4), stride=(2, 2), padding=(1, 1))\n",
       "    (1): ReLU()\n",
       "    (2): BatchNorm2d(64, eps=1e-05, momentum=0.1, affine=True, track_running_stats=True)\n",
       "    (3): ConvTranspose2d(64, 32, kernel_size=(4, 4), stride=(2, 2), padding=(1, 1))\n",
       "    (4): ReLU()\n",
       "    (5): BatchNorm2d(32, eps=1e-05, momentum=0.1, affine=True, track_running_stats=True)\n",
       "  )\n",
       "  (drop2_dec): Dropout2d(p=0.5, inplace=False)\n",
       "  (conv3_dec): Sequential(\n",
       "    (0): ConvTranspose2d(64, 32, kernel_size=(4, 4), stride=(2, 2), padding=(1, 1))\n",
       "    (1): BatchNorm2d(32, eps=1e-05, momentum=0.1, affine=True, track_running_stats=True)\n",
       "    (2): ReLU()\n",
       "    (3): ConvTranspose2d(32, 1, kernel_size=(4, 4), stride=(2, 2), padding=(1, 1))\n",
       "  )\n",
       ")"
      ]
     },
     "execution_count": 88,
     "metadata": {},
     "output_type": "execute_result"
    }
   ],
   "source": [
    "model.eval()\n",
    "model.to('cpu')\n",
    "# clear_output()"
   ]
  },
  {
   "cell_type": "code",
   "execution_count": 95,
   "metadata": {
    "colab": {
     "base_uri": "https://localhost:8080/",
     "height": 627
    },
    "id": "-vwaHlp0MJNs",
    "outputId": "010eae61-609e-42d0-b9fc-ac66fb331b27",
    "tags": []
   },
   "outputs": [
    {
     "data": {
      "image/png": "[encoded data removed]",
      "text/plain": [
       "<Figure size 360x360 with 1 Axes>"
      ]
     },
     "metadata": {
      "needs_background": "light"
     },
     "output_type": "display_data"
    },
    {
     "data": {
      "image/png": "[encoded data removed]",
      "text/plain": [
       "<Figure size 360x360 with 1 Axes>"
      ]
     },
     "metadata": {
      "needs_background": "light"
     },
     "output_type": "display_data"
    }
   ],
   "source": [
    "def prop(model, img):\n",
    "    out = model(img.unsqueeze(0).unsqueeze(0))\n",
    "    return out.detach().numpy()[0][0]\n",
    "    \n",
    "# getting the image from train dataset\n",
    "img = train_data[0][0][0]\n",
    "\n",
    "# getting the reconstructed version of image\n",
    "recon = prop(model, img)\n",
    "\n",
    "# show the initial image\n",
    "plt.figure(figsize=(5, 5))\n",
    "plt.imshow(img, cmap='gray')\n",
    "plt.show()\n",
    "\n",
    "# showing the reconstructed image\n",
    "plt.figure(figsize=(5, 5))\n",
    "plt.imshow(recon, cmap='gray')\n",
    "plt.show()"
   ]
  },
  {
   "cell_type": "code",
   "execution_count": 276,
   "metadata": {
    "id": "FHDfpkTgMJNv"
   },
   "outputs": [],
   "source": [
    "torch.save(model, 'model.pt')"
   ]
  }
 ],
 "metadata": {
  "accelerator": "GPU",
  "colab": {
   "collapsed_sections": [],
   "name": "PMLDLAutoencoderV2.ipynb",
   "provenance": []
  },
  "kernelspec": {
   "display_name": "Python 3",
   "language": "python",
   "name": "python3"
  },
  "language_info": {
   "codemirror_mode": {
    "name": "ipython",
    "version": 3
   },
   "file_extension": ".py",
   "mimetype": "text/x-python",
   "name": "python",
   "nbconvert_exporter": "python",
   "pygments_lexer": "ipython3",
   "version": "3.8.8"
  }
 },
 "nbformat": 4,
 "nbformat_minor": 4
}
