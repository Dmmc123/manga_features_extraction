{
 "cells": [
  {
   "cell_type": "code",
   "execution_count": 1,
   "metadata": {
    "tags": []
   },
   "outputs": [],
   "source": [
    "import os\n",
    "import torch.optim as optim\n",
    "from pathlib import Path\n",
    "from torch.utils.data import DataLoader, Dataset, random_split\n",
    "from torchvision import transforms, models\n",
    "import torch\n",
    "import torch.nn as nn\n",
    "import torch.nn.functional as F\n",
    "import pytorch_lightning as pl\n",
    "from PIL import Image, ImageOps\n",
    "import numpy as np\n",
    "import pandas as pd\n",
    "from matplotlib import pyplot as plt"
   ]
  },
  {
   "cell_type": "markdown",
   "metadata": {},
   "source": [
    "# Dataset"
   ]
  },
  {
   "cell_type": "code",
   "execution_count": 2,
   "metadata": {
    "collapsed": false,
    "jupyter": {
     "outputs_hidden": false
    },
    "pycharm": {
     "name": "#%%\n"
    }
   },
   "outputs": [],
   "source": [
    "# https://pytorch.org/tutorials/beginner/data_loading_tutorial.html\n",
    "\n",
    "class MangaDataset(Dataset):\n",
    "    \"\"\"Road  dataset\"\"\"\n",
    "\n",
    "    def __init__(self, data_dir: str = 'data', im_size = (64, 64), transform = None):\n",
    "        \"\"\"\n",
    "        data_dir: str - path to images directory\n",
    "        transform: tochvision.transforms - transforms to be used on images\n",
    "        \"\"\"\n",
    "        if transform:\n",
    "            self.transform = transforms.Compose([\n",
    "                transforms.Resize(im_size),\n",
    "                transforms.ToTensor(),\n",
    "                transform\n",
    "            ])\n",
    "        else:\n",
    "            self.transform = transforms.Compose([\n",
    "                transforms.Resize(im_size),\n",
    "                transforms.ToTensor(),\n",
    "            ])\n",
    "        self.dataset = list(map(str, Path(data_dir).rglob(\"*.jpg\")))\n",
    "\n",
    "    def __len__(self):\n",
    "        return len(self.dataset)\n",
    "\n",
    "    def __getitem__(self, idx):\n",
    "        # Getting index\n",
    "        if torch.is_tensor(idx):\n",
    "            idx = idx.tolist()\n",
    "        im_path = self.dataset[idx]\n",
    "        # Opening and transforming the image\n",
    "        with Image.open(im_path) as im:\n",
    "            gray = ImageOps.grayscale(im)\n",
    "            return self.transform(gray)"
   ]
  },
  {
   "cell_type": "markdown",
   "metadata": {},
   "source": [
    "# Data Module"
   ]
  },
  {
   "cell_type": "code",
   "execution_count": 3,
   "metadata": {
    "collapsed": false,
    "jupyter": {
     "outputs_hidden": false
    },
    "pycharm": {
     "name": "#%%\n"
    }
   },
   "outputs": [],
   "source": [
    "class MangaDataModule(pl.LightningDataModule):\n",
    "    def __init__(self, data_dir: str = 'data', batch_size: int = 32, train_size: float = 0.8, test_size: float = 0.15):\n",
    "        \"\"\"\n",
    "        data_dir: string, paht ot directory of images\n",
    "        batch_size: int, size of the batch\n",
    "        train_size: float, percentage of the train dataset size\n",
    "        test_size: float, percentage of the test dataset size\n",
    "        \"\"\"\n",
    "        super().__init__()\n",
    "        self.data_dir = data_dir\n",
    "        self.batch_size = batch_size\n",
    "        self.train_size = train_size\n",
    "        self.test_size = test_size\n",
    "\n",
    "    def setup(self, stage=None):\n",
    "        data_full = MangaDataset(self.data_dir)\n",
    "        train_size = int(len(data_full)*self.train_size)\n",
    "        test_size = int(len(data_full)*self.test_size)\n",
    "        val_size = len(data_full) - train_size - test_size\n",
    "        self.manga_train, test_val = random_split(data_full, [train_size, test_size + val_size])\n",
    "        self.manga_test, self.manga_val = random_split(test_val, [test_size, val_size])\n",
    "\n",
    "    def train_dataloader(self):\n",
    "        return DataLoader(self.manga_train, batch_size=self.batch_size)\n",
    "\n",
    "    def val_dataloader(self):\n",
    "        return DataLoader(self.manga_val, batch_size=self.batch_size)\n",
    "\n",
    "    def test_dataloader(self):\n",
    "        return DataLoader(self.manga_test, batch_size=self.batch_size)"
   ]
  },
  {
   "cell_type": "markdown",
   "metadata": {
    "jupyter": {
     "outputs_hidden": false
    },
    "pycharm": {
     "name": "#%%\n"
    }
   },
   "source": [
    "# Model"
   ]
  },
  {
   "cell_type": "code",
   "execution_count": 4,
   "metadata": {},
   "outputs": [],
   "source": [
    "class View(nn.Module):\n",
    "    def __init__(self, shape):\n",
    "        super(View, self).__init__()\n",
    "        self.shape = shape\n",
    "\n",
    "    def forward(self, x):\n",
    "        return x.view(self.shape)"
   ]
  },
  {
   "cell_type": "code",
   "execution_count": 54,
   "metadata": {},
   "outputs": [],
   "source": [
    "# https://github.com/1Konny/Beta-VAE/blob/master/model.py\n",
    "\n",
    "class MangaModel(pl.LightningModule):\n",
    "    def __init__(self, n_size):\n",
    "        super().__init__()\n",
    "        self.n_size = n_size\n",
    "        # Encoder model\n",
    "        self.encoder = torch.nn.Sequential( # shape (1, 64, 64)\n",
    "                            torch.nn.Conv2d(1, 32, 4, stride=2, padding=1), # (32, 32, 32)\n",
    "                            torch.nn.ReLU(), \n",
    "                            torch.nn.BatchNorm2d(32),\n",
    "                            torch.nn.Conv2d(32, 32, 4, stride=2, padding=1), # (32, 16, 16)\n",
    "                            torch.nn.ReLU(),\n",
    "                            torch.nn.BatchNorm2d(32),\n",
    "                            torch.nn.Dropout2d(),\n",
    "                            torch.nn.Conv2d(32, 64, 4, stride=2, padding=1), # (64, 8, 8)\n",
    "                            torch.nn.ReLU(),\n",
    "                            torch.nn.BatchNorm2d(64),\n",
    "                            torch.nn.Conv2d(64, 64, 4, stride=2, padding=1), # (64, 4, 4)\n",
    "                            torch.nn.ReLU(),\n",
    "                            torch.nn.BatchNorm2d(64),\n",
    "                            torch.nn.Conv2d(64, 256, 4, stride=1), # (256, 1, 1)\n",
    "                            torch.nn.ReLU(),\n",
    "                            torch.nn.Dropout2d(),\n",
    "                            torch.nn.BatchNorm2d(256),\n",
    "                            torch.nn.Flatten(),\n",
    "                            torch.nn.Linear(256, 2 * n_size)\n",
    "                        )\n",
    "        # Decoder model\n",
    "        self.decoder = torch.nn.Sequential( # shape (64, 28, 28)\n",
    "                            torch.nn.Linear(n_size, 256),\n",
    "                            View((-1, 256, 1, 1)),\n",
    "                            torch.nn.ConvTranspose2d(256, 64, 4, stride=1),\n",
    "                            torch.nn.ReLU(),\n",
    "                            torch.nn.BatchNorm2d(64),\n",
    "                            torch.nn.Dropout2d(),\n",
    "                            torch.nn.ConvTranspose2d(64, 64, 4, stride=2, padding=1),\n",
    "                            torch.nn.ReLU(),\n",
    "                            torch.nn.BatchNorm2d(64),\n",
    "                            torch.nn.ConvTranspose2d(64, 32, 4, stride=2, padding=1),\n",
    "                            torch.nn.ReLU(),\n",
    "                            torch.nn.BatchNorm2d(32),\n",
    "                            torch.nn.Dropout2d(),\n",
    "                            torch.nn.ConvTranspose2d(32, 32, 4, stride=2, padding=1),\n",
    "                            torch.nn.BatchNorm2d(32),\n",
    "                            torch.nn.ReLU(),\n",
    "                            torch.nn.ConvTranspose2d(32, 1, 4, stride=2, padding=1)\n",
    "                        )\n",
    "        # MSE loss\n",
    "        self.loss = torch.nn.MSELoss()\n",
    "        \n",
    "    # https://github.com/1Konny/Beta-VAE/blob/977a1ece88e190dd8a556b4e2efb665f759d0772/solver.py  \n",
    "    def kl_div(self, mu, sigma):\n",
    "        klds = -0.5*(1 + sigma - mu.pow(2) - sigma.exp())\n",
    "        return klds.sum(1).mean(0, True)\n",
    "    \n",
    "    def sample(self, mu, sigma):\n",
    "        noise = torch.normal(torch.zeros(self.n_size), torch.ones(self.n_size))\n",
    "        return sigma.div(2).exp() * noise + mu\n",
    "    \n",
    "    def forward(self, x):\n",
    "        x = self.encoder(x)\n",
    "        mu, sigma = x[:, :self.n_size], x[:, self.n_size:]\n",
    "        x = self.sample(mu, sigma)\n",
    "        out = self.decoder(x)\n",
    "        return out, mu, sigma\n",
    "\n",
    "    def training_step(self, batch, batch_idx):\n",
    "        x = batch\n",
    "        pred, mu, sigma = self(x)\n",
    "        # Calculating loss\n",
    "        loss = self.loss(x, pred) + self.kl_div(mu, sigma)\n",
    "        return loss\n",
    "    \n",
    "    def validation_step(self, batch, batch_idx):\n",
    "        x = batch\n",
    "        pred, mu, sigma = self(x)\n",
    "        # Calculating loss\n",
    "        loss = self.loss(x, pred) + self.kl_div(mu, sigma)\n",
    "        return loss\n",
    "\n",
    "    def configure_optimizers(self):\n",
    "        # Optimizers. Adam was used as it was in the original work\n",
    "        return torch.optim.Adam(self.parameters(), lr=0.001)\n",
    "    \n",
    "    def training_epoch_end(self, outputs):\n",
    "        # logging losses\n",
    "        avg_loss = torch.stack([x['loss'] for x in outputs]).mean()\n",
    "        self.logger.experiment.add_scalar(\"Loss/Train\", avg_loss, self.current_epoch)"
   ]
  },
  {
   "cell_type": "code",
   "execution_count": 55,
   "metadata": {
    "tags": []
   },
   "outputs": [
    {
     "name": "stderr",
     "output_type": "stream",
     "text": [
      "GPU available: True, used: False\n",
      "TPU available: False, using: 0 TPU cores\n",
      "IPU available: False, using: 0 IPUs\n",
      "\n",
      "  | Name    | Type       | Params\n",
      "---------------------------------------\n",
      "0 | encoder | Sequential | 388 K \n",
      "1 | decoder | Sequential | 383 K \n",
      "2 | loss    | MSELoss    | 0     \n",
      "---------------------------------------\n",
      "772 K     Trainable params\n",
      "0         Non-trainable params\n",
      "772 K     Total params\n",
      "3.089     Total estimated model params size (MB)\n"
     ]
    },
    {
     "name": "stdout",
     "output_type": "stream",
     "text": [
      "Epoch 0:  94%|█████████████████████████████████████████████████▌   | 87/93 [03:13<00:13,  2.20s/it, loss=1.12, v_num=8]\n",
      "Validating: 0it [00:00, ?it/s]\u001b[A\n",
      "Validating:   0%|                                                                                | 0/6 [00:00<?, ?it/s]\u001b[A\n",
      "Epoch 0:  96%|██████████████████████████████████████████████████▋  | 89/93 [03:15<00:08,  2.18s/it, loss=1.12, v_num=8]\u001b[A\n",
      "Validating:  33%|████████████████████████                                                | 2/6 [00:04<00:09,  2.39s/it]\u001b[A\n",
      "Validating:  50%|████████████████████████████████████                                    | 3/6 [00:06<00:06,  2.24s/it]\u001b[A\n",
      "Epoch 0:  99%|████████████████████████████████████████████████████▍| 92/93 [03:22<00:02,  2.18s/it, loss=1.12, v_num=8]\u001b[A\n",
      "Validating:  83%|████████████████████████████████████████████████████████████            | 5/6 [00:10<00:02,  2.15s/it]\u001b[A\n",
      "Epoch 0: 100%|█████████████████████████████████████████████████████| 93/93 [03:25<00:00,  2.19s/it, loss=1.12, v_num=8]\u001b[A\n",
      "Epoch 1:  94%|████████████████████████████████████████████████▋   | 87/93 [03:14<00:13,  2.21s/it, loss=0.398, v_num=8]\u001b[A\n",
      "Validating: 0it [00:00, ?it/s]\u001b[A\n",
      "Validating:   0%|                                                                                | 0/6 [00:00<?, ?it/s]\u001b[A\n",
      "Validating:  17%|████████████                                                            | 1/6 [00:01<00:08,  1.75s/it]\u001b[A\n",
      "Epoch 1:  97%|██████████████████████████████████████████████████▎ | 90/93 [03:18<00:06,  2.18s/it, loss=0.398, v_num=8]\u001b[A\n",
      "Validating:  50%|████████████████████████████████████                                    | 3/6 [00:06<00:06,  2.25s/it]\u001b[A\n",
      "Validating:  67%|████████████████████████████████████████████████                        | 4/6 [00:09<00:04,  2.29s/it]\u001b[A\n",
      "Epoch 1: 100%|████████████████████████████████████████████████████| 93/93 [03:25<00:00,  2.18s/it, loss=0.398, v_num=8]\u001b[A\n",
      "Epoch 1: 100%|████████████████████████████████████████████████████| 93/93 [03:25<00:00,  2.19s/it, loss=0.398, v_num=8]\u001b[A\n",
      "Epoch 2:  94%|████████████████████████████████████████████████▋   | 87/93 [03:15<00:13,  2.22s/it, loss=0.193, v_num=8]\u001b[A\n",
      "Validating: 0it [00:00, ?it/s]\u001b[A\n",
      "Validating:   0%|                                                                                | 0/6 [00:00<?, ?it/s]\u001b[A\n",
      "Validating:  17%|████████████                                                            | 1/6 [00:01<00:08,  1.76s/it]\u001b[A\n",
      "Epoch 2:  97%|██████████████████████████████████████████████████▎ | 90/93 [03:19<00:06,  2.20s/it, loss=0.193, v_num=8]\u001b[A\n",
      "Validating:  50%|████████████████████████████████████                                    | 3/6 [00:06<00:06,  2.22s/it]\u001b[A\n",
      "Validating:  67%|████████████████████████████████████████████████                        | 4/6 [00:08<00:04,  2.23s/it]\u001b[A\n",
      "Epoch 2: 100%|████████████████████████████████████████████████████| 93/93 [03:26<00:00,  2.19s/it, loss=0.193, v_num=8]\u001b[A\n",
      "Epoch 2: 100%|████████████████████████████████████████████████████| 93/93 [03:27<00:00,  2.20s/it, loss=0.193, v_num=8]\u001b[A\n",
      "Epoch 3:  94%|████████████████████████████████████████████████▋   | 87/93 [03:13<00:13,  2.19s/it, loss=0.118, v_num=8]\u001b[A\n",
      "Validating: 0it [00:00, ?it/s]\u001b[A\n",
      "Validating:   0%|                                                                                | 0/6 [00:00<?, ?it/s]\u001b[A\n",
      "Validating:  17%|████████████                                                            | 1/6 [00:01<00:09,  1.80s/it]\u001b[A\n",
      "Epoch 3:  97%|██████████████████████████████████████████████████▎ | 90/93 [03:17<00:06,  2.17s/it, loss=0.118, v_num=8]\u001b[A\n",
      "Validating:  50%|████████████████████████████████████                                    | 3/6 [00:06<00:06,  2.29s/it]\u001b[A\n",
      "Validating:  67%|████████████████████████████████████████████████                        | 4/6 [00:09<00:04,  2.29s/it]\u001b[A\n",
      "Epoch 3: 100%|████████████████████████████████████████████████████| 93/93 [03:24<00:00,  2.17s/it, loss=0.118, v_num=8]\u001b[A\n",
      "Epoch 3: 100%|████████████████████████████████████████████████████| 93/93 [03:25<00:00,  2.18s/it, loss=0.118, v_num=8]\u001b[A\n",
      "Epoch 4:  94%|███████████████████████████████████████████████▋   | 87/93 [03:14<00:13,  2.20s/it, loss=0.0948, v_num=8]\u001b[A\n",
      "Validating: 0it [00:00, ?it/s]\u001b[A\n",
      "Validating:   0%|                                                                                | 0/6 [00:00<?, ?it/s]\u001b[A\n",
      "Validating:  17%|████████████                                                            | 1/6 [00:01<00:08,  1.79s/it]\u001b[A\n",
      "Epoch 4:  97%|█████████████████████████████████████████████████▎ | 90/93 [03:18<00:06,  2.18s/it, loss=0.0948, v_num=8]\u001b[A\n",
      "Validating:  50%|████████████████████████████████████                                    | 3/6 [00:06<00:06,  2.24s/it]\u001b[A\n",
      "Validating:  67%|████████████████████████████████████████████████                        | 4/6 [00:08<00:04,  2.28s/it]\u001b[A\n",
      "Epoch 4: 100%|███████████████████████████████████████████████████| 93/93 [03:24<00:00,  2.18s/it, loss=0.0948, v_num=8]\u001b[A\n",
      "Epoch 4: 100%|███████████████████████████████████████████████████| 93/93 [03:25<00:00,  2.19s/it, loss=0.0948, v_num=8]\u001b[A\n",
      "Epoch 5:  94%|███████████████████████████████████████████████▋   | 87/93 [03:14<00:13,  2.21s/it, loss=0.0874, v_num=8]\u001b[A\n",
      "Validating: 0it [00:00, ?it/s]\u001b[A\n",
      "Validating:   0%|                                                                                | 0/6 [00:00<?, ?it/s]\u001b[A\n",
      "Validating:  17%|████████████                                                            | 1/6 [00:01<00:08,  1.76s/it]\u001b[A\n",
      "Epoch 5:  97%|█████████████████████████████████████████████████▎ | 90/93 [03:18<00:06,  2.18s/it, loss=0.0874, v_num=8]\u001b[A\n",
      "Validating:  50%|████████████████████████████████████                                    | 3/6 [00:06<00:06,  2.25s/it]\u001b[A\n",
      "Validating:  67%|████████████████████████████████████████████████                        | 4/6 [00:08<00:04,  2.27s/it]\u001b[A\n",
      "Epoch 5: 100%|███████████████████████████████████████████████████| 93/93 [03:25<00:00,  2.18s/it, loss=0.0874, v_num=8]\u001b[A\n",
      "Epoch 5: 100%|███████████████████████████████████████████████████| 93/93 [03:25<00:00,  2.19s/it, loss=0.0874, v_num=8]\u001b[A\n",
      "Epoch 6:  94%|████████████████████████████████████████████████▋   | 87/93 [03:16<00:13,  2.24s/it, loss=0.085, v_num=8]\u001b[A\n",
      "Validating: 0it [00:00, ?it/s]\u001b[A\n",
      "Validating:   0%|                                                                                | 0/6 [00:00<?, ?it/s]\u001b[A\n",
      "Validating:  17%|████████████                                                            | 1/6 [00:01<00:09,  1.83s/it]\u001b[A\n",
      "Epoch 6:  97%|██████████████████████████████████████████████████▎ | 90/93 [03:21<00:06,  2.21s/it, loss=0.085, v_num=8]\u001b[A\n",
      "Validating:  50%|████████████████████████████████████                                    | 3/6 [00:06<00:06,  2.31s/it]\u001b[A\n",
      "Validating:  67%|████████████████████████████████████████████████                        | 4/6 [00:09<00:04,  2.34s/it]\u001b[A\n",
      "Epoch 6: 100%|████████████████████████████████████████████████████| 93/93 [03:28<00:00,  2.21s/it, loss=0.085, v_num=8]\u001b[A\n",
      "Epoch 6: 100%|████████████████████████████████████████████████████| 93/93 [03:28<00:00,  2.22s/it, loss=0.085, v_num=8]\u001b[A\n",
      "Epoch 7:  94%|████████████████████████████████████████████████▋   | 87/93 [03:17<00:13,  2.25s/it, loss=0.084, v_num=8]\u001b[A\n",
      "Validating: 0it [00:00, ?it/s]\u001b[A\n",
      "Validating:   0%|                                                                                | 0/6 [00:00<?, ?it/s]\u001b[A\n",
      "Validating:  17%|████████████                                                            | 1/6 [00:01<00:08,  1.79s/it]\u001b[A\n",
      "Epoch 7:  97%|██████████████████████████████████████████████████▎ | 90/93 [03:22<00:06,  2.22s/it, loss=0.084, v_num=8]\u001b[A\n",
      "Validating:  50%|████████████████████████████████████                                    | 3/6 [00:06<00:06,  2.26s/it]\u001b[A\n",
      "Validating:  67%|████████████████████████████████████████████████                        | 4/6 [00:09<00:04,  2.28s/it]\u001b[A\n",
      "Epoch 7: 100%|████████████████████████████████████████████████████| 93/93 [03:28<00:00,  2.22s/it, loss=0.084, v_num=8]\u001b[A\n",
      "Epoch 7: 100%|████████████████████████████████████████████████████| 93/93 [03:29<00:00,  2.23s/it, loss=0.084, v_num=8]\u001b[A\n",
      "Epoch 8:  94%|███████████████████████████████████████████████▋   | 87/93 [03:14<00:13,  2.21s/it, loss=0.0835, v_num=8]\u001b[A\n",
      "Validating: 0it [00:00, ?it/s]\u001b[A\n",
      "Validating:   0%|                                                                                | 0/6 [00:00<?, ?it/s]\u001b[A\n",
      "Validating:  17%|████████████                                                            | 1/6 [00:01<00:08,  1.78s/it]\u001b[A\n",
      "Epoch 8:  97%|█████████████████████████████████████████████████▎ | 90/93 [03:19<00:06,  2.19s/it, loss=0.0835, v_num=8]\u001b[A\n",
      "Validating:  50%|████████████████████████████████████                                    | 3/6 [00:06<00:06,  2.22s/it]\u001b[A\n",
      "Validating:  67%|████████████████████████████████████████████████                        | 4/6 [00:08<00:04,  2.27s/it]\u001b[A\n",
      "Epoch 8: 100%|███████████████████████████████████████████████████| 93/93 [03:25<00:00,  2.19s/it, loss=0.0835, v_num=8]\u001b[A\n",
      "Epoch 8: 100%|███████████████████████████████████████████████████| 93/93 [03:26<00:00,  2.20s/it, loss=0.0835, v_num=8]\u001b[A\n",
      "Epoch 9:  94%|███████████████████████████████████████████████▋   | 87/93 [03:14<00:13,  2.22s/it, loss=0.0831, v_num=8]\u001b[A\n",
      "Validating: 0it [00:00, ?it/s]\u001b[A\n",
      "Validating:   0%|                                                                                | 0/6 [00:00<?, ?it/s]\u001b[A\n",
      "Validating:  17%|████████████                                                            | 1/6 [00:01<00:08,  1.77s/it]\u001b[A\n",
      "Epoch 9:  97%|█████████████████████████████████████████████████▎ | 90/93 [03:19<00:06,  2.19s/it, loss=0.0831, v_num=8]\u001b[A\n",
      "Validating:  50%|████████████████████████████████████                                    | 3/6 [00:06<00:06,  2.24s/it]\u001b[A\n",
      "Validating:  67%|████████████████████████████████████████████████                        | 4/6 [00:08<00:04,  2.27s/it]\u001b[A\n",
      "Epoch 9: 100%|███████████████████████████████████████████████████| 93/93 [03:25<00:00,  2.19s/it, loss=0.0831, v_num=8]\u001b[A\n",
      "Epoch 9: 100%|███████████████████████████████████████████████████| 93/93 [03:26<00:00,  2.20s/it, loss=0.0831, v_num=8]\u001b[A\n",
      "Epoch 10:  94%|███████████████████████████████████████████████▋   | 87/93 [03:16<00:13,  2.23s/it, loss=0.083, v_num=8]\u001b[A\n",
      "Validating: 0it [00:00, ?it/s]\u001b[A\n",
      "Validating:   0%|                                                                                | 0/6 [00:00<?, ?it/s]\u001b[A\n",
      "Validating:  17%|████████████                                                            | 1/6 [00:01<00:08,  1.77s/it]\u001b[A\n",
      "Epoch 10:  97%|█████████████████████████████████████████████████▎ | 90/93 [03:20<00:06,  2.21s/it, loss=0.083, v_num=8]\u001b[A\n",
      "Validating:  50%|████████████████████████████████████                                    | 3/6 [00:06<00:06,  2.26s/it]\u001b[A\n",
      "Validating:  67%|████████████████████████████████████████████████                        | 4/6 [00:09<00:04,  2.30s/it]\u001b[A\n",
      "Epoch 10: 100%|███████████████████████████████████████████████████| 93/93 [03:27<00:00,  2.21s/it, loss=0.083, v_num=8]\u001b[A\n",
      "Epoch 10: 100%|███████████████████████████████████████████████████| 93/93 [03:28<00:00,  2.21s/it, loss=0.083, v_num=8]\u001b[A\n",
      "Epoch 11:  94%|███████████████████████████████████████████████▋   | 87/93 [03:13<00:13,  2.20s/it, loss=0.083, v_num=8]\u001b[A\n",
      "Validating: 0it [00:00, ?it/s]\u001b[A\n",
      "Validating:   0%|                                                                                | 0/6 [00:00<?, ?it/s]\u001b[A\n",
      "Validating:  17%|████████████                                                            | 1/6 [00:01<00:08,  1.79s/it]\u001b[A\n",
      "Epoch 11:  97%|█████████████████████████████████████████████████▎ | 90/93 [03:18<00:06,  2.18s/it, loss=0.083, v_num=8]\u001b[A\n",
      "Validating:  50%|████████████████████████████████████                                    | 3/6 [00:06<00:06,  2.27s/it]\u001b[A\n",
      "Validating:  67%|████████████████████████████████████████████████                        | 4/6 [00:09<00:04,  2.29s/it]\u001b[A\n",
      "Epoch 11: 100%|███████████████████████████████████████████████████| 93/93 [03:24<00:00,  2.18s/it, loss=0.083, v_num=8]\u001b[A\n",
      "Epoch 11: 100%|███████████████████████████████████████████████████| 93/93 [03:25<00:00,  2.19s/it, loss=0.083, v_num=8]\u001b[A\n",
      "Epoch 12:  94%|██████████████████████████████████████████████▊   | 87/93 [03:13<00:13,  2.20s/it, loss=0.0829, v_num=8]\u001b[A\n",
      "Validating: 0it [00:00, ?it/s]\u001b[A\n",
      "Validating:   0%|                                                                                | 0/6 [00:00<?, ?it/s]\u001b[A\n",
      "Validating:  17%|████████████                                                            | 1/6 [00:01<00:09,  1.82s/it]\u001b[A\n",
      "Epoch 12:  97%|████████████████████████████████████████████████▍ | 90/93 [03:18<00:06,  2.18s/it, loss=0.0829, v_num=8]\u001b[A\n",
      "Validating:  50%|████████████████████████████████████                                    | 3/6 [00:06<00:06,  2.29s/it]\u001b[A\n",
      "Validating:  67%|████████████████████████████████████████████████                        | 4/6 [00:09<00:04,  2.30s/it]\u001b[A\n",
      "Epoch 12: 100%|██████████████████████████████████████████████████| 93/93 [03:24<00:00,  2.18s/it, loss=0.0829, v_num=8]\u001b[A\n",
      "Epoch 12: 100%|██████████████████████████████████████████████████| 93/93 [03:25<00:00,  2.19s/it, loss=0.0829, v_num=8]\u001b[A\n",
      "Epoch 13:  82%|████████████████████████████████████████▊         | 76/93 [02:52<00:38,  2.25s/it, loss=0.0834, v_num=8]\u001b[A"
     ]
    }
   ],
   "source": [
    "train_loader = MangaDataModule()\n",
    "logger = pl.loggers.TensorBoardLogger(\"lightning_logs/\", name=\"my_model\")\n",
    "trainer = pl.Trainer(max_epochs=300, logger=logger)\n",
    "model = MangaModel(20)\n",
    "\n",
    "\n",
    "trainer.fit(model, train_loader)"
   ]
  },
  {
   "cell_type": "code",
   "execution_count": 56,
   "metadata": {},
   "outputs": [],
   "source": [
    "a = MangaDataset()"
   ]
  },
  {
   "cell_type": "code",
   "execution_count": 57,
   "metadata": {},
   "outputs": [],
   "source": [
    "img = a.__getitem__(100)"
   ]
  },
  {
   "cell_type": "code",
   "execution_count": 58,
   "metadata": {},
   "outputs": [
    {
     "data": {
      "text/plain": [
       "<matplotlib.image.AxesImage at 0x202bdb19a00>"
      ]
     },
     "execution_count": 58,
     "metadata": {},
     "output_type": "execute_result"
    },
    {
     "data": {
      "image/png": "[encoded data removed]",
      "text/plain": [
       "<Figure size 1152x648 with 1 Axes>"
      ]
     },
     "metadata": {
      "needs_background": "light"
     },
     "output_type": "display_data"
    }
   ],
   "source": [
    "plt.figure(figsize=[16, 9])\n",
    "plt.imshow(img[0], cmap='gray')"
   ]
  },
  {
   "cell_type": "code",
   "execution_count": 59,
   "metadata": {},
   "outputs": [
    {
     "data": {
      "text/plain": [
       "tensor(1.)"
      ]
     },
     "execution_count": 59,
     "metadata": {},
     "output_type": "execute_result"
    }
   ],
   "source": [
    "img[0].max()"
   ]
  },
  {
   "cell_type": "code",
   "execution_count": 60,
   "metadata": {},
   "outputs": [
    {
     "data": {
      "text/plain": [
       "MangaModel(\n",
       "  (encoder): Sequential(\n",
       "    (0): Conv2d(1, 32, kernel_size=(4, 4), stride=(2, 2), padding=(1, 1))\n",
       "    (1): ReLU()\n",
       "    (2): BatchNorm2d(32, eps=1e-05, momentum=0.1, affine=True, track_running_stats=True)\n",
       "    (3): Conv2d(32, 32, kernel_size=(4, 4), stride=(2, 2), padding=(1, 1))\n",
       "    (4): ReLU()\n",
       "    (5): BatchNorm2d(32, eps=1e-05, momentum=0.1, affine=True, track_running_stats=True)\n",
       "    (6): Dropout2d(p=0.5, inplace=False)\n",
       "    (7): Conv2d(32, 64, kernel_size=(4, 4), stride=(2, 2), padding=(1, 1))\n",
       "    (8): ReLU()\n",
       "    (9): BatchNorm2d(64, eps=1e-05, momentum=0.1, affine=True, track_running_stats=True)\n",
       "    (10): Conv2d(64, 64, kernel_size=(4, 4), stride=(2, 2), padding=(1, 1))\n",
       "    (11): ReLU()\n",
       "    (12): BatchNorm2d(64, eps=1e-05, momentum=0.1, affine=True, track_running_stats=True)\n",
       "    (13): Conv2d(64, 256, kernel_size=(4, 4), stride=(1, 1))\n",
       "    (14): ReLU()\n",
       "    (15): Dropout2d(p=0.5, inplace=False)\n",
       "    (16): BatchNorm2d(256, eps=1e-05, momentum=0.1, affine=True, track_running_stats=True)\n",
       "    (17): Flatten(start_dim=1, end_dim=-1)\n",
       "    (18): Linear(in_features=256, out_features=40, bias=True)\n",
       "  )\n",
       "  (decoder): Sequential(\n",
       "    (0): Linear(in_features=20, out_features=256, bias=True)\n",
       "    (1): View()\n",
       "    (2): ConvTranspose2d(256, 64, kernel_size=(4, 4), stride=(1, 1))\n",
       "    (3): ReLU()\n",
       "    (4): BatchNorm2d(64, eps=1e-05, momentum=0.1, affine=True, track_running_stats=True)\n",
       "    (5): Dropout2d(p=0.5, inplace=False)\n",
       "    (6): ConvTranspose2d(64, 64, kernel_size=(4, 4), stride=(2, 2), padding=(1, 1))\n",
       "    (7): ReLU()\n",
       "    (8): BatchNorm2d(64, eps=1e-05, momentum=0.1, affine=True, track_running_stats=True)\n",
       "    (9): ConvTranspose2d(64, 32, kernel_size=(4, 4), stride=(2, 2), padding=(1, 1))\n",
       "    (10): ReLU()\n",
       "    (11): BatchNorm2d(32, eps=1e-05, momentum=0.1, affine=True, track_running_stats=True)\n",
       "    (12): Dropout2d(p=0.5, inplace=False)\n",
       "    (13): ConvTranspose2d(32, 32, kernel_size=(4, 4), stride=(2, 2), padding=(1, 1))\n",
       "    (14): BatchNorm2d(32, eps=1e-05, momentum=0.1, affine=True, track_running_stats=True)\n",
       "    (15): ReLU()\n",
       "    (16): ConvTranspose2d(32, 1, kernel_size=(4, 4), stride=(2, 2), padding=(1, 1))\n",
       "  )\n",
       "  (loss): MSELoss()\n",
       ")"
      ]
     },
     "execution_count": 60,
     "metadata": {},
     "output_type": "execute_result"
    }
   ],
   "source": [
    "model.eval()"
   ]
  },
  {
   "cell_type": "code",
   "execution_count": 61,
   "metadata": {},
   "outputs": [
    {
     "data": {
      "text/plain": [
       "tensor([[-6.4452e-05,  3.8774e-05,  5.7270e-05,  7.1323e-05,  7.9178e-05,\n",
       "          1.8110e-05,  6.3073e-05,  1.4228e-04, -2.2145e-04,  3.6024e-05,\n",
       "         -4.5642e-05,  3.0014e-04,  4.5399e-05, -1.4723e-04,  4.6408e-05,\n",
       "          7.9537e-05,  4.8682e-05, -5.1865e-05,  2.6616e-05, -1.2311e-04,\n",
       "          8.3905e-06,  9.7526e-06, -3.3911e-05,  1.0568e-04, -8.5876e-05,\n",
       "          1.5742e-05,  5.6101e-05,  2.6950e-05, -1.3150e-04,  7.4419e-06,\n",
       "          5.2149e-05, -6.8317e-05, -3.0094e-06, -3.3578e-05,  1.1808e-04,\n",
       "         -7.5860e-05,  8.4596e-05, -5.9671e-05, -7.6294e-05, -8.3480e-06]],\n",
       "       grad_fn=<AddmmBackward>)"
      ]
     },
     "execution_count": 61,
     "metadata": {},
     "output_type": "execute_result"
    }
   ],
   "source": [
    "model.encoder(a.__getitem__(100).unsqueeze(0))"
   ]
  },
  {
   "cell_type": "code",
   "execution_count": 62,
   "metadata": {},
   "outputs": [
    {
     "data": {
      "text/plain": [
       "tensor([[ 3.9576e-05, -6.0152e-05,  9.0797e-05,  2.7113e-05,  5.6482e-05,\n",
       "          1.0028e-04, -7.0649e-05,  1.7723e-04, -2.6314e-05,  3.5926e-06,\n",
       "         -1.2984e-04,  1.7998e-04, -3.8658e-05, -1.7802e-04,  1.3998e-04,\n",
       "          9.8426e-05, -3.6350e-05, -4.2069e-06,  4.3635e-05, -5.3744e-05,\n",
       "          8.3135e-05, -1.2211e-05,  1.8205e-05,  1.8109e-04, -1.1164e-04,\n",
       "         -6.6114e-06,  1.4202e-04, -2.2395e-05, -1.0330e-04,  3.8842e-05,\n",
       "          2.6373e-05, -5.9451e-06,  7.5749e-05, -2.0360e-05,  1.4813e-04,\n",
       "         -1.6766e-05,  1.6139e-04, -2.5040e-05,  7.4559e-06,  2.1098e-05]],\n",
       "       grad_fn=<AddmmBackward>)"
      ]
     },
     "execution_count": 62,
     "metadata": {},
     "output_type": "execute_result"
    },
    {
     "name": "stdout",
     "output_type": "stream",
     "text": [
      "Epoch 13:  82%|████████████████████████████████████████▊         | 76/93 [03:06<00:41,  2.42s/it, loss=0.0834, v_num=8]"
     ]
    }
   ],
   "source": [
    "model.encoder(a.__getitem__(1).unsqueeze(0))"
   ]
  },
  {
   "cell_type": "code",
   "execution_count": 84,
   "metadata": {},
   "outputs": [],
   "source": [
    "sas = model(a.__getitem__(0).unsqueeze(0))[0]"
   ]
  },
  {
   "cell_type": "code",
   "execution_count": 85,
   "metadata": {},
   "outputs": [
    {
     "data": {
      "text/plain": [
       "tensor([[[[0.6153, 0.7851, 0.7501,  ..., 0.8055, 0.7861, 0.6784],\n",
       "          [0.7471, 0.7915, 0.7813,  ..., 0.7867, 0.7858, 0.8246],\n",
       "          [0.7470, 0.7742, 0.7623,  ..., 0.7671, 0.7682, 0.7706],\n",
       "          ...,\n",
       "          [0.7693, 0.7827, 0.7766,  ..., 0.7571, 0.7700, 0.7627],\n",
       "          [0.7217, 0.7866, 0.7596,  ..., 0.7757, 0.7703, 0.7844],\n",
       "          [0.6327, 0.7446, 0.7214,  ..., 0.7270, 0.7130, 0.4966]]]],\n",
       "       grad_fn=<SlowConvTranspose2DBackward>)"
      ]
     },
     "execution_count": 85,
     "metadata": {},
     "output_type": "execute_result"
    }
   ],
   "source": [
    "sas"
   ]
  },
  {
   "cell_type": "code",
   "execution_count": 86,
   "metadata": {},
   "outputs": [
    {
     "data": {
      "text/plain": [
       "<matplotlib.image.AxesImage at 0x202be755e50>"
      ]
     },
     "execution_count": 86,
     "metadata": {},
     "output_type": "execute_result"
    },
    {
     "data": {
      "image/png": "[encoded data removed]",
      "text/plain": [
       "<Figure size 1152x648 with 1 Axes>"
      ]
     },
     "metadata": {
      "needs_background": "light"
     },
     "output_type": "display_data"
    }
   ],
   "source": [
    "plt.figure(figsize=[16, 9])\n",
    "plt.imshow(sas.detach().numpy()[0][0], cmap='gray')"
   ]
  },
  {
   "cell_type": "code",
   "execution_count": null,
   "metadata": {},
   "outputs": [],
   "source": []
  }
 ],
 "metadata": {
  "kernelspec": {
   "display_name": "Python 3 (ipykernel)",
   "language": "python",
   "name": "python3"
  },
  "language_info": {
   "codemirror_mode": {
    "name": "ipython",
    "version": 3
   },
   "file_extension": ".py",
   "mimetype": "text/x-python",
   "name": "python",
   "nbconvert_exporter": "python",
   "pygments_lexer": "ipython3",
   "version": "3.9.7"
  }
 },
 "nbformat": 4,
 "nbformat_minor": 4
}
