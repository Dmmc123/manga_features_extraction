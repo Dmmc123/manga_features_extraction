{
  "nbformat": 4,
  "nbformat_minor": 0,
  "metadata": {
    "kernelspec": {
      "display_name": "Python 3 (ipykernel)",
      "language": "python",
      "name": "python3"
    },
    "language_info": {
      "codemirror_mode": {
        "name": "ipython",
        "version": 3
      },
      "file_extension": ".py",
      "mimetype": "text/x-python",
      "name": "python",
      "nbconvert_exporter": "python",
      "pygments_lexer": "ipython3",
      "version": "3.9.7"
    },
    "colab": {
      "name": "PMLDLAutoencoderV2.ipynb",
      "provenance": [],
      "collapsed_sections": []
    },
    "accelerator": "GPU"
  },
  "cells": [
    {
      "cell_type": "code",
      "metadata": {
        "id": "vxZbskSNMpfP"
      },
      "source": [
        "from IPython.display import clear_output"
      ],
      "execution_count": 2,
      "outputs": []
    },
    {
      "cell_type": "code",
      "metadata": {
        "id": "78bZbtDfMmWy"
      },
      "source": [
        "!pip install pytorch-lightning\n",
        "clear_output()"
      ],
      "execution_count": 3,
      "outputs": []
    },
    {
      "cell_type": "code",
      "metadata": {
        "tags": [],
        "id": "gSuyA0Z6MJNk"
      },
      "source": [
        "import os\n",
        "import torch.optim as optim\n",
        "from pathlib import Path\n",
        "from torch.utils.data import DataLoader, Dataset, random_split\n",
        "from torchvision import transforms, models\n",
        "import torch\n",
        "import torch.nn as nn\n",
        "import torch.nn.functional as F\n",
        "import pytorch_lightning as pl\n",
        "from PIL import Image, ImageOps\n",
        "import numpy as np\n",
        "import pandas as pd\n",
        "from matplotlib import pyplot as plt"
      ],
      "execution_count": 4,
      "outputs": []
    },
    {
      "cell_type": "markdown",
      "metadata": {
        "id": "jxwEoDV_MJNm"
      },
      "source": [
        "# Dataset"
      ]
    },
    {
      "cell_type": "code",
      "metadata": {
        "jupyter": {
          "outputs_hidden": false
        },
        "pycharm": {
          "name": "#%%\n"
        },
        "id": "uybnWEcaMJNn"
      },
      "source": [
        "# https://pytorch.org/tutorials/beginner/data_loading_tutorial.html\n",
        "\n",
        "class MangaDataset(Dataset):\n",
        "    \"\"\"Road  dataset\"\"\"\n",
        "\n",
        "    def __init__(self, data_dir: str = 'data', im_size = (64, 64), transform = None):\n",
        "        \"\"\"\n",
        "        data_dir: str - path to images directory\n",
        "        transform: tochvision.transforms - transforms to be used on images\n",
        "        \"\"\"\n",
        "        if transform:\n",
        "            self.transform = transforms.Compose([\n",
        "                transforms.Resize(im_size),\n",
        "                transforms.ToTensor(),\n",
        "                transform\n",
        "            ])\n",
        "        else:\n",
        "            self.transform = transforms.Compose([\n",
        "                transforms.Resize(im_size),\n",
        "                transforms.ToTensor(),\n",
        "            ])\n",
        "        self.dataset = list(map(str, Path(data_dir).rglob(\"*.jpg\")))\n",
        "\n",
        "    def __len__(self):\n",
        "        return len(self.dataset)\n",
        "\n",
        "    def __getitem__(self, idx):\n",
        "        # Getting index\n",
        "        if torch.is_tensor(idx):\n",
        "            idx = idx.tolist()\n",
        "        im_path = self.dataset[idx]\n",
        "        # Opening and transforming the image\n",
        "        with Image.open(im_path) as im:\n",
        "            gray = ImageOps.grayscale(im)\n",
        "            return self.transform(gray)"
      ],
      "execution_count": 199,
      "outputs": []
    },
    {
      "cell_type": "markdown",
      "metadata": {
        "id": "MOwpESbtMJNo"
      },
      "source": [
        "# Data Wrapping"
      ]
    },
    {
      "cell_type": "code",
      "metadata": {
        "id": "mTNBd2Z9uVeW"
      },
      "source": [
        "!unzip drive/MyDrive/data.zip\n",
        "clear_output()"
      ],
      "execution_count": 201,
      "outputs": []
    },
    {
      "cell_type": "code",
      "metadata": {
        "id": "5zWKeB05aUEf"
      },
      "source": [
        "# folder with data\n",
        "dir = 'data'\n",
        "\n",
        "# parameters of data\n",
        "batch_size  = 64\n",
        "train_ratio = 0.8\n",
        "\n",
        "# getting all pieces of data together (test + train)\n",
        "data_full = MangaDataset(dir)\n",
        "\n",
        "# splitting the data on train and test\n",
        "train_len = int(len(data_full) * train_ratio)\n",
        "test_len  = len(data_full) - train_len\n",
        "train_samples, test_samples = random_split(data_full, [train_len, test_len])\n",
        "\n",
        "# wrapping data into dataloaders\n",
        "# NB lists are used as transforms became a bottleneck during the training process\n",
        "# and calculating transforms each time has become expensive\n",
        "train_data = list(DataLoader(train_samples, batch_size=batch_size))\n",
        "test_data  = list(DataLoader(test_samples,  batch_size=batch_size))"
      ],
      "execution_count": 202,
      "outputs": []
    },
    {
      "cell_type": "markdown",
      "metadata": {
        "jupyter": {
          "outputs_hidden": false
        },
        "pycharm": {
          "name": "#%%\n"
        },
        "id": "e9iwXJFgMJNp"
      },
      "source": [
        "# Model"
      ]
    },
    {
      "cell_type": "code",
      "metadata": {
        "id": "lLDjcKVQMJNq"
      },
      "source": [
        "class View(nn.Module):\n",
        "    def __init__(self, shape):\n",
        "        super(View, self).__init__()\n",
        "        self.shape = shape\n",
        "\n",
        "    def forward(self, x):\n",
        "        return x.view(self.shape)\n",
        "\n",
        "# https://github.com/1Konny/Beta-VAE/blob/master/model.py\n",
        "class MangaModel(nn.Module):\n",
        "    def __init__(self, n_size):\n",
        "        super().__init__()\n",
        "        self.n_size = n_size\n",
        "        # Encoder model\n",
        "        self.encoder = torch.nn.Sequential( # shape (1, 64, 64)\n",
        "            torch.nn.Conv2d(1, 32, 4, stride=2, padding=1), # (32, 32, 32)\n",
        "            torch.nn.ReLU(), \n",
        "            torch.nn.BatchNorm2d(32),\n",
        "            torch.nn.Conv2d(32, 32, 4, stride=2, padding=1), # (32, 16, 16)\n",
        "            torch.nn.ReLU(),\n",
        "            torch.nn.BatchNorm2d(32),\n",
        "            torch.nn.Dropout2d(),\n",
        "            torch.nn.Conv2d(32, 64, 4, stride=2, padding=1), # (64, 8, 8)\n",
        "            torch.nn.ReLU(),\n",
        "            torch.nn.BatchNorm2d(64),\n",
        "            torch.nn.Conv2d(64, 64, 4, stride=2, padding=1), # (64, 4, 4)\n",
        "            torch.nn.ReLU(),\n",
        "            torch.nn.BatchNorm2d(64),\n",
        "            torch.nn.Conv2d(64, 256, 4, stride=1), # (256, 1, 1)\n",
        "            torch.nn.ReLU(),\n",
        "            torch.nn.Dropout2d(),\n",
        "            torch.nn.BatchNorm2d(256),\n",
        "            torch.nn.Flatten(),\n",
        "            torch.nn.Linear(256, n_size)\n",
        "        )\n",
        "        # Decoder model\n",
        "        self.decoder = torch.nn.Sequential( # shape (64, 28, 28)\n",
        "            torch.nn.Linear(n_size, 256),\n",
        "            View((-1, 256, 1, 1)),\n",
        "            torch.nn.ConvTranspose2d(256, 64, 4, stride=1),\n",
        "            torch.nn.ReLU(),\n",
        "            torch.nn.BatchNorm2d(64),\n",
        "            torch.nn.Dropout2d(),\n",
        "            torch.nn.ConvTranspose2d(64, 64, 4, stride=2, padding=1),\n",
        "            torch.nn.ReLU(),\n",
        "            torch.nn.BatchNorm2d(64),\n",
        "            torch.nn.ConvTranspose2d(64, 32, 4, stride=2, padding=1),\n",
        "            torch.nn.ReLU(),\n",
        "            torch.nn.BatchNorm2d(32),\n",
        "            torch.nn.Dropout2d(),\n",
        "            torch.nn.ConvTranspose2d(32, 32, 4, stride=2, padding=1),\n",
        "            torch.nn.BatchNorm2d(32),\n",
        "            torch.nn.ReLU(),\n",
        "            torch.nn.ConvTranspose2d(32, 1, 4, stride=2, padding=1)\n",
        "        )\n",
        "    \n",
        "    def forward(self, x):\n",
        "        x = self.encoder(x)\n",
        "        # mu, sigma = x[:, :self.n_size], x[:, self.n_size:]\n",
        "        # x = self.sample(mu, sigma)\n",
        "        out = self.decoder(x)\n",
        "        return out"
      ],
      "execution_count": 203,
      "outputs": []
    },
    {
      "cell_type": "code",
      "metadata": {
        "id": "jUiG7gA9xe1s"
      },
      "source": [
        "from random import shuffle\n",
        "shuffle([1,2,3,4])"
      ],
      "execution_count": 216,
      "outputs": []
    },
    {
      "cell_type": "code",
      "metadata": {
        "colab": {
          "base_uri": "https://localhost:8080/"
        },
        "id": "KIMZBcyPOk6U",
        "outputId": "d69c5cbe-9ca7-44d2-c57b-d325c167f64a"
      },
      "source": [
        "from google.colab import drive\n",
        "drive.mount('/content/drive')"
      ],
      "execution_count": 9,
      "outputs": [
        {
          "output_type": "stream",
          "name": "stdout",
          "text": [
            "Mounted at /content/drive\n"
          ]
        }
      ]
    },
    {
      "cell_type": "code",
      "metadata": {
        "id": "ajY-BKFAXyq9"
      },
      "source": [
        "# https://github.com/1Konny/Beta-VAE/blob/977a1ece88e190dd8a556b4e2efb665f759d0772/solver.py  \n",
        "\n",
        "# 2nd part of loss function (KL-divergence)\n",
        "def kl_div(mu, sigma, device):\n",
        "    klds = -0.5*(1 + sigma - mu.pow(2) - sigma.exp()).to(device)\n",
        "    return klds.sum(1).mean(0, True)\n",
        "\n",
        "# CPU/GPU\n",
        "device = 'cuda' if torch.cuda.is_available() else 'cpu'\n",
        "\n",
        "# defining model on available device\n",
        "model = MangaModel(n_size=32, training_device=device).to(device)\n",
        "\n",
        "# defining loss\n",
        "loss = torch.nn.MSELoss()\n",
        "\n",
        "# optimizer\n",
        "optimizer = torch.optim.Adam(model.parameters(), lr=0.07)\n",
        "\n",
        "# scheduler\n",
        "# scheduler = torch.optim.lr_scheduler.ExponentialLR(optimizer, gamma=0.9)\n",
        "\n",
        "# amount of training cycles\n",
        "epochs = 1500\n",
        "\n",
        "# how frequently (every N epochs) we want to log the cumulative loss\n",
        "log_rate = 50"
      ],
      "execution_count": 258,
      "outputs": []
    },
    {
      "cell_type": "code",
      "metadata": {
        "id": "ZohNIAm5yP_-"
      },
      "source": [
        "from itertools import chain\n",
        "from random import shuffle\n",
        "def shuffle_batch(batch):\n",
        "    batch_len = len(batch[0])\n",
        "    flat_batch = list(chain(*batch))\n",
        "    flat_batch = [x.numpy() for x in flat_batch]\n",
        "    shuffle(flat_batch)\n",
        "    return [torch.from_numpy(np.array(flat_batch[i*batch_len:(i+1)*batch_len])) for i in range(len(flat_batch)//batch_len)]"
      ],
      "execution_count": 256,
      "outputs": []
    },
    {
      "cell_type": "code",
      "metadata": {
        "colab": {
          "base_uri": "https://localhost:8080/"
        },
        "id": "aEqxrPVHZOd4",
        "outputId": "9a9fb2fc-ca1e-4abf-d7a8-4bdf9107b546"
      },
      "source": [
        "optimizer = torch.optim.Adam(model.parameters(), lr=0.08)\n",
        "\n",
        "# starting the training process\n",
        "for epoch in range(epochs):\n",
        "\n",
        "    # initializing the form of cumulating loss\n",
        "    cumulative_loss = 0\n",
        "\n",
        "    # going htrough each batch in a pack of training data\n",
        "    for batch in shuffle_batch(train_data):\n",
        "\n",
        "        # resetting gradients for the optimizer\n",
        "        optimizer.zero_grad()\n",
        "\n",
        "        # sending pictures to devices\n",
        "        batch = batch.to(device)\n",
        "\n",
        "        # propogating the pictures through the model\n",
        "        # reconstructed, mu, sigma = model(batch)\n",
        "        reconstructed = model(batch)\n",
        "\n",
        "        # calculating the reconstruction loss and kl divergence\n",
        "        recon_loss = loss(batch, reconstructed)\n",
        "        # kl_loss    = kl_div(mu, sigma, device)\n",
        "        # loss_joint = recon_loss + kl_loss\n",
        "        loss_joint = recon_loss\n",
        "\n",
        "        # calculating the gradients for loss\n",
        "        loss_joint.backward()\n",
        "\n",
        "        # updating the weights on the model\n",
        "        optimizer.step()\n",
        "\n",
        "        # updating the lr of optimizer\n",
        "        # scheduler.step()\n",
        "\n",
        "        # updating the cumulative loss\n",
        "        cumulative_loss += loss_joint\n",
        "\n",
        "    # logging the loss if needed\n",
        "    if not epoch % log_rate:\n",
        "        print(f\"Epoch: {epoch}, loss: {cumulative_loss}\")"
      ],
      "execution_count": 259,
      "outputs": [
        {
          "output_type": "stream",
          "name": "stdout",
          "text": [
            "Epoch: 0, loss: 14.741353988647461\n",
            "Epoch: 50, loss: 1.6906906366348267\n",
            "Epoch: 100, loss: 1.4936943054199219\n",
            "Epoch: 150, loss: 1.3126682043075562\n",
            "Epoch: 200, loss: 1.251613974571228\n",
            "Epoch: 250, loss: 1.2351585626602173\n",
            "Epoch: 300, loss: 1.1733980178833008\n",
            "Epoch: 350, loss: 1.168114423751831\n",
            "Epoch: 400, loss: 1.143040657043457\n",
            "Epoch: 450, loss: 1.1278281211853027\n",
            "Epoch: 500, loss: 1.1143505573272705\n",
            "Epoch: 550, loss: 1.1497858762741089\n",
            "Epoch: 600, loss: 1.1389124393463135\n",
            "Epoch: 650, loss: 1.0975161790847778\n",
            "Epoch: 700, loss: 1.0881255865097046\n",
            "Epoch: 750, loss: 1.1387230157852173\n",
            "Epoch: 800, loss: 1.0976974964141846\n",
            "Epoch: 850, loss: 1.10274076461792\n",
            "Epoch: 900, loss: 1.0738593339920044\n",
            "Epoch: 950, loss: 1.0732831954956055\n",
            "Epoch: 1000, loss: 1.0628526210784912\n",
            "Epoch: 1050, loss: 1.0899192094802856\n",
            "Epoch: 1100, loss: 1.0782620906829834\n",
            "Epoch: 1150, loss: 1.0872232913970947\n",
            "Epoch: 1200, loss: 1.0730565786361694\n",
            "Epoch: 1250, loss: 1.094681978225708\n",
            "Epoch: 1300, loss: 1.0557762384414673\n",
            "Epoch: 1350, loss: 1.07737398147583\n",
            "Epoch: 1400, loss: 1.0482205152511597\n",
            "Epoch: 1450, loss: 1.049337387084961\n"
          ]
        }
      ]
    },
    {
      "cell_type": "code",
      "metadata": {
        "id": "HhaO4kmjSBXp"
      },
      "source": [
        "model.eval()\n",
        "model.to('cpu')\n",
        "clear_output()"
      ],
      "execution_count": 260,
      "outputs": []
    },
    {
      "cell_type": "code",
      "metadata": {
        "colab": {
          "base_uri": "https://localhost:8080/",
          "height": 627
        },
        "id": "-vwaHlp0MJNs",
        "outputId": "010eae61-609e-42d0-b9fc-ac66fb331b27"
      },
      "source": [
        "def prop(model, img):\n",
        "    out = model(img.unsqueeze(0).unsqueeze(0))\n",
        "    return out.detach().numpy()[0][0]\n",
        "    \n",
        "# getting the image from train dataset\n",
        "img = train_data[26][20][0]\n",
        "\n",
        "# getting the reconstructed version of image\n",
        "recon = prop(model, img)\n",
        "\n",
        "# show the initial image\n",
        "plt.figure(figsize=(5, 5))\n",
        "plt.imshow(img, cmap='gray')\n",
        "plt.show()\n",
        "\n",
        "# showing the reconstructed image\n",
        "plt.figure(figsize=(5, 5))\n",
        "plt.imshow(recon, cmap='gray')\n",
        "plt.show()"
      ],
      "execution_count": 278,
      "outputs": [
        {
          "output_type": "display_data",
          "data": {
            "image/png": "[encoded data removed]",
            "text/plain": [
              "<Figure size 360x360 with 1 Axes>"
            ]
          },
          "metadata": {
            "needs_background": "light"
          }
        },
        {
          "output_type": "display_data",
          "data": {
            "image/png": "[encoded data removed]",
            "text/plain": [
              "<Figure size 360x360 with 1 Axes>"
            ]
          },
          "metadata": {
            "needs_background": "light"
          }
        }
      ]
    },
    {
      "cell_type": "code",
      "metadata": {
        "id": "FHDfpkTgMJNv"
      },
      "source": [
        "torch.save(model, 'model.pt')"
      ],
      "execution_count": 276,
      "outputs": []
    }
  ]
}